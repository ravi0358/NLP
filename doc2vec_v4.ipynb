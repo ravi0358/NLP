{
 "cells": [
  {
   "cell_type": "code",
   "execution_count": null,
   "id": "134eb8ec",
   "metadata": {},
   "outputs": [],
   "source": [
    "# # from  model_accuracy import *\n",
    "# from packages import *\n",
    "# sr_ci_data=create_sr_data()\n",
    "# incident_ci_data,incident_data=create_incident_data()\n",
    "# import re"
   ]
  },
  {
   "cell_type": "code",
   "execution_count": 1,
   "id": "8abc4c81",
   "metadata": {},
   "outputs": [],
   "source": [
    "import numpy as np\n",
    "import pandas as pd\n",
    "import string\n",
    "import logging\n",
    "#import pyLDAvis.gensim\n",
    "import json\n",
    "import warnings\n",
    "from bs4 import BeautifulSoup\n",
    "warnings.filterwarnings('ignore')  # To ignore all warnings that arise here to enhance clarity\n",
    "from numpy import array\n",
    "import re\n",
    "from nltk.corpus import stopwords\n",
    "stop_words = stopwords.words('english')"
   ]
  },
  {
   "cell_type": "code",
   "execution_count": 2,
   "id": "be9b6b49",
   "metadata": {},
   "outputs": [],
   "source": [
    "import gensim\n",
    "from gensim.models.doc2vec import Doc2Vec\n",
    "from gensim.models.doc2vec import TaggedDocument\n",
    "import nltk\n",
    "#nltk.download('punkt')\n",
    "from nltk.tokenize import word_tokenize"
   ]
  },
  {
   "cell_type": "code",
   "execution_count": 3,
   "id": "c7030297",
   "metadata": {},
   "outputs": [],
   "source": [
    "pd.set_option('display.max_columns', None)\n",
    "pd.set_option('display.max_rows', None)\n",
    "pd.set_option('display.max_colwidth', -1)"
   ]
  },
  {
   "cell_type": "code",
   "execution_count": 4,
   "id": "2507af6e",
   "metadata": {},
   "outputs": [],
   "source": [
    "import collections\n",
    "import math\n",
    "import re\n",
    "from collections import Counter\n",
    "class OrderedSet(collections.Set):\n",
    "    def __init__(self, iterable=()):\n",
    "        self.d = collections.OrderedDict.fromkeys(iterable)\n",
    "\n",
    "    def __len__(self):\n",
    "        return len(self.d)\n",
    "\n",
    "    def __contains__(self, element):\n",
    "        return element in self.d\n",
    "\n",
    "    def __iter__(self):\n",
    "        return iter(self.d)\n",
    "    \n",
    "WORD = re.compile(r\"\\w+\")\n",
    "\n",
    "def text_to_vector(text):\n",
    "    words = WORD.findall(text.upper())\n",
    "    return Counter(words)\n",
    "\n",
    "def get_cosine(vec1, vec2):\n",
    "    vec1 = text_to_vector(vec1)\n",
    "    vec2 = text_to_vector(vec2)\n",
    "    intersection = set(vec1.keys()) & set(vec2.keys())\n",
    "    numerator = sum([vec1[x] * vec2[x] for x in intersection])\n",
    "    sum1 = sum([vec1[x] ** 2 for x in list(vec1.keys())])\n",
    "    sum2 = sum([vec2[x] ** 2 for x in list(vec2.keys())])\n",
    "    denominator = math.sqrt(sum1) * math.sqrt(sum2)\n",
    "    if not denominator:\n",
    "        return 0.0\n",
    "    else:\n",
    "        return float(numerator) / denominator\n",
    "\n",
    "    "
   ]
  },
  {
   "cell_type": "code",
   "execution_count": 5,
   "id": "588035f8",
   "metadata": {},
   "outputs": [],
   "source": [
    "def dbcar_split(df):\n",
    "    \n",
    "    #suspected CI name based correction \n",
    "    \n",
    "    def fix_CI_Name(sus_CI_Name):\n",
    "        \n",
    "        if str(sus_CI_Name).strip() in ['dbCAR-cRDS','dbCAR-cRDS_PRD']:\n",
    "            return 'dbCAR-cRDS-dbCAR-cRDS'\n",
    "        \n",
    "        elif sus_CI_Name.strip() in ['db-CLM','db-CLM-(Global)','db-CLM_PRD']:\n",
    "            return 'dbCAR-cRDS-db-CLM'\n",
    "        \n",
    "        else:\n",
    "            return 'dbCAR-cRDS-other'\n",
    "        \n",
    "    df['Incident CI Name'] = df['Incident Suspected Cause CI Name'].apply(fix_CI_Name)\n",
    "    \n",
    "    # SD based correction\n",
    "    \n",
    "    df_1 = df[df['Incident Short Description'].str.contains(pat='[d|D][b|B]-*[c|C][l|L][m|M]',regex=True)]\n",
    "    df_2 =df[~(df['Incident Short Description'].str.contains(pat='[d|D][b|B]-*[c|C][l|L][m|M]',regex=True))]\n",
    "    \n",
    "    df_1['Incident CI Name'] = 'dbCAR-cRDS-db-CLM'\n",
    "    \n",
    "    final_df = pd.concat([df_1,df_2])\n",
    "    \n",
    "    return final_df"
   ]
  },
  {
   "cell_type": "code",
   "execution_count": 6,
   "id": "e03b6969",
   "metadata": {},
   "outputs": [],
   "source": [
    "pd.set_option('display.max_columns', None)\n",
    "pd.set_option('display.max_rows', None)"
   ]
  },
  {
   "cell_type": "code",
   "execution_count": null,
   "id": "195101c7",
   "metadata": {},
   "outputs": [],
   "source": []
  },
  {
   "cell_type": "code",
   "execution_count": 7,
   "id": "8153d1dc",
   "metadata": {},
   "outputs": [],
   "source": [
    "# def get_html_to_text_format(html_string):\n",
    "#     soup = BeautifulSoup(html_string)\n",
    "#     out = soup.get_text()\n",
    "#     out =\" \".join(out.split())\n",
    "#     out = \" \".join(out.split('x000D'))\n",
    "#     return out\n",
    "# def remove_punctuation(text):\n",
    "#     new_text=''.join([char for char in text if char not in string.punctuation])\n",
    "#     return new_text\n",
    "# rem = string.punctuation\n",
    "# pattern = r\"[{}]\".format(rem)\n",
    "\n",
    " \n",
    "\n",
    "# def datapreprocessing(df,data):\n",
    "#     #remove punctvation\n",
    "#     df[data]=df[data].str.replace(pattern, ' ')\n",
    "#     #punctuation removing\n",
    "#     df[data]  = df[data] .map(lambda x: x.lower())\n",
    "#     #Remove digits\n",
    "#     df[data] = df[data].str.replace('\\d+', '')\n",
    "#     #Remove one and two letter words\n",
    "#     #df[data] = df[data].str.replace(r'\\b(\\w{1,2})\\b', '')\n",
    "#     return df[data]\n",
    "# def remove_stopwords(texts):\n",
    "#     return [[word for word in simple_preprocess(str(doc)) if word not in stop_words] for doc in texts]  \n",
    "# def Cleaning(df,col):\n",
    "#     df[col] = datapreprocessing(df,col)\n",
    "#     df[col] = df[col].str.lower().str.split()\n",
    "#     df[col] = df[col].apply(lambda x: [item for item in x if item not in stop_words])\n",
    "#     df[col] = df[col].apply(lambda x: ', '.join(map(str, x)))\n",
    "#     df[col] = df[col].apply(lambda x: ''.join(x.split(',')))\n",
    "#     return df[col]"
   ]
  },
  {
   "cell_type": "code",
   "execution_count": 8,
   "id": "9038d50f",
   "metadata": {},
   "outputs": [],
   "source": [
    "dic = {\"pls\": \"please\"}\n",
    "#Update as per comment\n",
    "dic = {r\"\\b{}\\b\".format(k): v for k, v in dic.items()}\n",
    "def get_html_to_text_format(html_string):\n",
    "    soup = BeautifulSoup(html_string)\n",
    "    out = soup.get_text()\n",
    "    out =\" \".join(out.split())\n",
    "    out = \" \".join(out.split('x000D'))\n",
    "    return out\n",
    "\n",
    "\n",
    "stop = stopwords.words('english')\n",
    "stop_words = stop  \n",
    "stop_words = stop_words+ ['january','february','march','april','may','june','july','august','september','october','november','december',\n",
    "'jan','feb','mar','apr','may','jun','jul','aug','sep','oct','nov','dec','sunday','monday','tuesday','wednesday','thursday',\n",
    "'friday','saturday','sun','mon','tue','wed','thu','fri','sat','id','ids','isin','top','re','from']\n",
    "\n",
    "stop_words.remove(\"not\")\n",
    "\n",
    "\n",
    "def preprocess(raw_text):\n",
    "    \n",
    "    \"\"\"Convert all characters to lowercase from raw text\"\"\"\n",
    "    words_ = str(raw_text).lower().split()\n",
    "\n",
    "    \n",
    "\n",
    "    \"\"\"Remove stop words from list of tokenized words\"\"\"\n",
    "    cleaned_words = []\n",
    "    for word in words_:\n",
    "        if word not in stop_words:\n",
    "            cleaned_words.append(word)\n",
    "        \n",
    "            \n",
    "    months = ['january','jan',\n",
    "          'february','feb',\n",
    "          'march','mar', \n",
    "          'april','apr',\n",
    "          'may',\n",
    "          'june','jun',\n",
    "          'july','jul',\n",
    "          'august','aug',\n",
    "          'september','sep',\n",
    "          'october','oct',\n",
    "          'november','nov',\n",
    "          'december','dec']        \n",
    "            \n",
    "    matching = [s for s in cleaned_words if any(xs in s for xs in months)]   \n",
    "    if len(matching)>=1:\n",
    "        for i in range(len(matching)):\n",
    "            cleaned_words.remove(matching[i])\n",
    "    \n",
    "\n",
    "            \n",
    "    \"\"\"Remove punctuation from list of tokenized words\"\"\"\n",
    "    new_words = []\n",
    "    for word in cleaned_words:\n",
    "        new_word = re.sub(r'[^a-zA-Z0-9]',' ', word)\n",
    "        if new_word != ' ':\n",
    "            new_words.append(new_word)   \n",
    "            \n",
    "            \n",
    "            \n",
    "    \"\"\"Remove only digits from list of tokenized words\"\"\"\n",
    "    new_digits = []\n",
    "    for word in new_words:\n",
    "        new_digit = re.sub(r\"$\\d+\\W+|\\b\\d+\\b|\\W+\\d+$\",'',word)\n",
    "        if new_digit != '':\n",
    "            new_digits.append(new_digit)             \n",
    "                   \n",
    "    \"\"\"Remove hexa decimal from list of tokenized words\"\"\"\n",
    "    \n",
    "    non_hexa_texts = []\n",
    "    for word in new_digits:\n",
    "        non_hexa_text = re.sub(r'[^\\x00-\\x7f]','', word)\n",
    "        if non_hexa_text != '':\n",
    "            non_hexa_texts.append(non_hexa_text) \n",
    "                \n",
    "    \"\"\"Remove punctuation from list of tokenized words\"\"\"\n",
    "    new_words = []\n",
    "    for word in cleaned_words:\n",
    "        new_word = re.sub(r'[^a-zA-Z0-9]',' ', word)\n",
    "        if new_word != ' ':\n",
    "            new_words.append(new_word)   \n",
    "            \n",
    "            \n",
    "            \n",
    "    \"\"\"Remove only digits from list of tokenized words\"\"\"\n",
    "    new_digits = []\n",
    "    for word in new_words:\n",
    "        new_digit = re.sub(r\"$\\d+\\W+|\\b\\d+\\b|\\W+\\d+$\",'',word)\n",
    "        if new_digit != '':\n",
    "            new_digits.append(new_digit)             \n",
    "                   \n",
    "    \"\"\"Remove hexa decimal from list of tokenized words\"\"\"\n",
    "    \n",
    "    non_hexa_texts = []\n",
    "    for word in new_digits:\n",
    "        non_hexa_text = re.sub(r'[^\\x00-\\x7f]','', word)\n",
    "        if non_hexa_text != '':\n",
    "            non_hexa_texts.append(non_hexa_text) \n",
    "            \n",
    "    output =  \" \".join(non_hexa_texts) \n",
    "    dic = {\"pls\": \"please\"}\n",
    "    for word, initial in dic.items():\n",
    "        output = output.replace(word.lower(), initial)\n",
    "    output = re.sub(' +', ' ',output)\n",
    "    output = output.strip()   \n",
    "    return output\n",
    "            \n"
   ]
  },
  {
   "cell_type": "code",
   "execution_count": 9,
   "id": "f2cdc688",
   "metadata": {},
   "outputs": [],
   "source": [
    "import sys\n",
    "sys.path.append(\"/home/jupyter/IB_Tech_AI_Ops/Ravi\")"
   ]
  },
  {
   "cell_type": "code",
   "execution_count": null,
   "id": "d30c474e",
   "metadata": {},
   "outputs": [],
   "source": [
    "# #only 2020\n",
    "# from packages import *\n",
    "# incident_ci_data,incident_data=create_incident_data()\n",
    "# incident_ci_data = dbcar_split(incident_ci_data)"
   ]
  },
  {
   "cell_type": "code",
   "execution_count": 10,
   "id": "fa189160",
   "metadata": {},
   "outputs": [],
   "source": [
    "#2019 include\n",
    "df = pd.read_csv('gs://db_input_data/Cleansed Files - Dev/2019_2020_merged.csv')\n",
    "incident_ci_data= dbcar_split(df)"
   ]
  },
  {
   "cell_type": "code",
   "execution_count": 11,
   "id": "5e44684b",
   "metadata": {},
   "outputs": [],
   "source": [
    "df = incident_ci_data[incident_ci_data['Incident CI Name']=='dbCAR-cRDS-dbCAR-cRDS']"
   ]
  },
  {
   "cell_type": "code",
   "execution_count": 12,
   "id": "8f241ddd",
   "metadata": {},
   "outputs": [
    {
     "data": {
      "text/html": [
       "<div>\n",
       "<style scoped>\n",
       "    .dataframe tbody tr th:only-of-type {\n",
       "        vertical-align: middle;\n",
       "    }\n",
       "\n",
       "    .dataframe tbody tr th {\n",
       "        vertical-align: top;\n",
       "    }\n",
       "\n",
       "    .dataframe thead th {\n",
       "        text-align: right;\n",
       "    }\n",
       "</style>\n",
       "<table border=\"1\" class=\"dataframe\">\n",
       "  <thead>\n",
       "    <tr style=\"text-align: right;\">\n",
       "      <th></th>\n",
       "      <th>Unnamed: 0</th>\n",
       "      <th>Incident Reference Number</th>\n",
       "      <th>Incident State</th>\n",
       "      <th>Incident CI ID</th>\n",
       "      <th>Incident Priority</th>\n",
       "      <th>Incident Urgency</th>\n",
       "      <th>Incident Impact</th>\n",
       "      <th>Incident Risk ?</th>\n",
       "      <th>Incident Start Date &amp; Time</th>\n",
       "      <th>Incident End Date &amp; Time</th>\n",
       "      <th>Incident Symptom Code</th>\n",
       "      <th>Incident Closure Code</th>\n",
       "      <th>Closure Code 2</th>\n",
       "      <th>Solution Code</th>\n",
       "      <th>Incident Suspected Cause CI ID</th>\n",
       "      <th>Incident Assignment Group</th>\n",
       "      <th>Incident Knowledge Article Reference</th>\n",
       "      <th>Incident Linked Problem Reference Number</th>\n",
       "      <th>Incident Recovered Date &amp; Time</th>\n",
       "      <th>Incident Reassignment Count</th>\n",
       "      <th>Incident Short Description</th>\n",
       "      <th>Incident Resolution Description</th>\n",
       "      <th>Incident Causing Change</th>\n",
       "      <th>Incident Solving Change</th>\n",
       "      <th>Incident Contact Type</th>\n",
       "      <th>Incident Resolved Date &amp; Time</th>\n",
       "      <th>Problem Number</th>\n",
       "      <th>Problem Root Cause Code</th>\n",
       "      <th>Problem Root Cause Code 2</th>\n",
       "      <th>Problem Root Cause Code 3</th>\n",
       "      <th>Incident CI Name</th>\n",
       "      <th>Incident Suspected Cause CI Name</th>\n",
       "      <th>Incident Priority-Urgency</th>\n",
       "      <th>High Priority-Urgency Incident Flag</th>\n",
       "      <th>Incident Start Date</th>\n",
       "      <th>Incident Start Year</th>\n",
       "      <th>Incident Start Month</th>\n",
       "      <th>Incident Start WeekNumber</th>\n",
       "      <th>Incident Start Hour</th>\n",
       "      <th>MTTR_days</th>\n",
       "      <th>MTTR_categories</th>\n",
       "      <th>MTTR_Hours</th>\n",
       "      <th>MTTR_Hours_Categories</th>\n",
       "      <th>Days Since Last Incident</th>\n",
       "      <th>Incident Active Last 30 Days</th>\n",
       "      <th>Is Incident Caused by Change</th>\n",
       "    </tr>\n",
       "  </thead>\n",
       "  <tbody>\n",
       "    <tr>\n",
       "      <th>17</th>\n",
       "      <td>17</td>\n",
       "      <td>INC0014625038</td>\n",
       "      <td>Closed</td>\n",
       "      <td>59248-1</td>\n",
       "      <td>Priority 3</td>\n",
       "      <td>High</td>\n",
       "      <td>Low</td>\n",
       "      <td>No</td>\n",
       "      <td>2020-01-01 01:41:00</td>\n",
       "      <td>2020-01-06 05:40:57</td>\n",
       "      <td>Monitoring</td>\n",
       "      <td>Configuration</td>\n",
       "      <td>App-Operating System Config</td>\n",
       "      <td>Amend Configuration</td>\n",
       "      <td>59248-1</td>\n",
       "      <td>CLM_ENGINEERING</td>\n",
       "      <td>KB0287159</td>\n",
       "      <td>NaN</td>\n",
       "      <td>2020-01-06 05:53:59</td>\n",
       "      <td>0.0</td>\n",
       "      <td>Delay in Publishing</td>\n",
       "      <td>Under analysis with CLM Engg and MIS Dev. _x000D_Please refer to https://dbatlas.db.com/jira02/browse/CLMPS-322 for further details.</td>\n",
       "      <td>NaN</td>\n",
       "      <td>NaN</td>\n",
       "      <td>Self-service</td>\n",
       "      <td>2020-01-06 05:53:59</td>\n",
       "      <td>NaN</td>\n",
       "      <td>NaN</td>\n",
       "      <td>NaN</td>\n",
       "      <td>NaN</td>\n",
       "      <td>dbCAR-cRDS-dbCAR-cRDS</td>\n",
       "      <td>dbCAR-cRDS</td>\n",
       "      <td>Priority 3-High</td>\n",
       "      <td>Low Priority-Urgency</td>\n",
       "      <td>2020-01-01</td>\n",
       "      <td>2020</td>\n",
       "      <td>1</td>\n",
       "      <td>1</td>\n",
       "      <td>1</td>\n",
       "      <td>5.0</td>\n",
       "      <td>3-17 days</td>\n",
       "      <td>124.0</td>\n",
       "      <td>&gt;96 hours</td>\n",
       "      <td>485 days 16:42:49</td>\n",
       "      <td>Not Active Last 30 days</td>\n",
       "      <td>Yes</td>\n",
       "    </tr>\n",
       "  </tbody>\n",
       "</table>\n",
       "</div>"
      ],
      "text/plain": [
       "    Unnamed: 0 Incident Reference Number Incident State Incident CI ID  \\\n",
       "17  17          INC0014625038             Closed         59248-1         \n",
       "\n",
       "   Incident Priority Incident Urgency Incident Impact Incident Risk ?  \\\n",
       "17  Priority 3        High             Low             No               \n",
       "\n",
       "   Incident Start Date & Time Incident End Date & Time Incident Symptom Code  \\\n",
       "17  2020-01-01 01:41:00        2020-01-06 05:40:57      Monitoring             \n",
       "\n",
       "   Incident Closure Code               Closure Code 2        Solution Code  \\\n",
       "17  Configuration         App-Operating System Config  Amend Configuration   \n",
       "\n",
       "   Incident Suspected Cause CI ID Incident Assignment Group  \\\n",
       "17  59248-1                        CLM_ENGINEERING            \n",
       "\n",
       "   Incident Knowledge Article Reference  \\\n",
       "17  KB0287159                             \n",
       "\n",
       "   Incident Linked Problem Reference Number Incident Recovered Date & Time  \\\n",
       "17  NaN                                      2020-01-06 05:53:59             \n",
       "\n",
       "    Incident Reassignment Count Incident Short Description  \\\n",
       "17  0.0                          Delay in Publishing         \n",
       "\n",
       "                                                                                                          Incident Resolution Description  \\\n",
       "17  Under analysis with CLM Engg and MIS Dev. _x000D_Please refer to https://dbatlas.db.com/jira02/browse/CLMPS-322 for further details.    \n",
       "\n",
       "   Incident Causing Change Incident Solving Change Incident Contact Type  \\\n",
       "17  NaN                     NaN                     Self-service           \n",
       "\n",
       "   Incident Resolved Date & Time Problem Number Problem Root Cause Code  \\\n",
       "17  2020-01-06 05:53:59           NaN            NaN                      \n",
       "\n",
       "   Problem Root Cause Code 2 Problem Root Cause Code 3       Incident CI Name  \\\n",
       "17  NaN                       NaN                       dbCAR-cRDS-dbCAR-cRDS   \n",
       "\n",
       "   Incident Suspected Cause CI Name Incident Priority-Urgency  \\\n",
       "17  dbCAR-cRDS                       Priority 3-High            \n",
       "\n",
       "   High Priority-Urgency Incident Flag Incident Start Date  \\\n",
       "17  Low Priority-Urgency                2020-01-01           \n",
       "\n",
       "    Incident Start Year  Incident Start Month  Incident Start WeekNumber  \\\n",
       "17  2020                 1                     1                           \n",
       "\n",
       "    Incident Start Hour  MTTR_days MTTR_categories  MTTR_Hours  \\\n",
       "17  1                    5.0        3-17 days       124.0        \n",
       "\n",
       "   MTTR_Hours_Categories Days Since Last Incident  \\\n",
       "17  >96 hours             485 days 16:42:49         \n",
       "\n",
       "   Incident Active Last 30 Days Is Incident Caused by Change  \n",
       "17  Not Active Last 30 days      Yes                          "
      ]
     },
     "execution_count": 12,
     "metadata": {},
     "output_type": "execute_result"
    }
   ],
   "source": [
    "df.head(1)"
   ]
  },
  {
   "cell_type": "code",
   "execution_count": 13,
   "id": "7ba247d1",
   "metadata": {},
   "outputs": [
    {
     "data": {
      "text/plain": [
       "Index(['Unnamed: 0', 'Incident Reference Number', 'Incident State',\n",
       "       'Incident CI ID', 'Incident Priority', 'Incident Urgency',\n",
       "       'Incident Impact', 'Incident Risk ?', 'Incident Start Date & Time',\n",
       "       'Incident End Date & Time', 'Incident Symptom Code',\n",
       "       'Incident Closure Code', 'Closure Code 2', 'Solution Code',\n",
       "       'Incident Suspected Cause CI ID', 'Incident Assignment Group',\n",
       "       'Incident Knowledge Article Reference',\n",
       "       'Incident Linked Problem Reference Number',\n",
       "       'Incident Recovered Date & Time', 'Incident Reassignment Count',\n",
       "       'Incident Short Description', 'Incident Resolution Description',\n",
       "       'Incident Causing Change', 'Incident Solving Change',\n",
       "       'Incident Contact Type', 'Incident Resolved Date & Time',\n",
       "       'Problem Number', 'Problem Root Cause Code',\n",
       "       'Problem Root Cause Code 2', 'Problem Root Cause Code 3',\n",
       "       'Incident CI Name', 'Incident Suspected Cause CI Name',\n",
       "       'Incident Priority-Urgency', 'High Priority-Urgency Incident Flag',\n",
       "       'Incident Start Date', 'Incident Start Year', 'Incident Start Month',\n",
       "       'Incident Start WeekNumber', 'Incident Start Hour', 'MTTR_days',\n",
       "       'MTTR_categories', 'MTTR_Hours', 'MTTR_Hours_Categories',\n",
       "       'Days Since Last Incident', 'Incident Active Last 30 Days',\n",
       "       'Is Incident Caused by Change'],\n",
       "      dtype='object')"
      ]
     },
     "execution_count": 13,
     "metadata": {},
     "output_type": "execute_result"
    }
   ],
   "source": [
    "df.columns"
   ]
  },
  {
   "cell_type": "code",
   "execution_count": 14,
   "id": "62aa73d1",
   "metadata": {},
   "outputs": [],
   "source": [
    "df = df[['Incident Reference Number','Incident Knowledge Article Reference',\n",
    "         'Incident Short Description','Incident Symptom Code','Incident Start Year']]"
   ]
  },
  {
   "cell_type": "code",
   "execution_count": 15,
   "id": "fcd4eb3f",
   "metadata": {},
   "outputs": [],
   "source": [
    "df['Incident Symptom Code']=df['Incident Symptom Code'].apply(lambda x: \"Others\" if x in ['Connectivity Issue','Performance Issue','Not Listed','Batch Issue','File transfer','Backup Issue','Security/Virus','Performance','General Error','File Transfer'] else x)"
   ]
  },
  {
   "cell_type": "code",
   "execution_count": 16,
   "id": "31cc520e",
   "metadata": {},
   "outputs": [],
   "source": [
    "df['Incident Short Description'] = df['Incident Short Description'].apply(lambda x:preprocess(x))\n"
   ]
  },
  {
   "cell_type": "code",
   "execution_count": 17,
   "id": "06f73e0b",
   "metadata": {},
   "outputs": [],
   "source": [
    "# df['Incident Short Description']= Cleaning(df,'Incident Short Description')"
   ]
  },
  {
   "cell_type": "code",
   "execution_count": 18,
   "id": "181d4685",
   "metadata": {},
   "outputs": [],
   "source": [
    "df = df[df['Incident Symptom Code'] == 'Application Function Issue'].reset_index(drop=True)"
   ]
  },
  {
   "cell_type": "code",
   "execution_count": 19,
   "id": "d007fe50",
   "metadata": {},
   "outputs": [
    {
     "data": {
      "text/plain": [
       "9308"
      ]
     },
     "execution_count": 19,
     "metadata": {},
     "output_type": "execute_result"
    }
   ],
   "source": [
    "df['Incident Short Description'].nunique()"
   ]
  },
  {
   "cell_type": "code",
   "execution_count": 20,
   "id": "3d54ae06",
   "metadata": {},
   "outputs": [
    {
     "data": {
      "text/plain": [
       "(14584, 5)"
      ]
     },
     "execution_count": 20,
     "metadata": {},
     "output_type": "execute_result"
    }
   ],
   "source": [
    "df.shape"
   ]
  },
  {
   "cell_type": "code",
   "execution_count": 21,
   "id": "0fc606b7",
   "metadata": {},
   "outputs": [],
   "source": [
    "df = df[(df['Incident Short Description']!='missing') & (df['Incident Short Description']!=\" \")].reset_index(drop=True)"
   ]
  },
  {
   "cell_type": "code",
   "execution_count": 22,
   "id": "1e6dc071",
   "metadata": {},
   "outputs": [],
   "source": [
    "df = df.reset_index(drop=True)"
   ]
  },
  {
   "cell_type": "code",
   "execution_count": 23,
   "id": "0dabffcd",
   "metadata": {},
   "outputs": [],
   "source": [
    "# df_2019=pd.DataFrame(df[df['Incident Start Year']==2019]['Incident Short Description'].drop_duplicates()).reset_index(drop=True)\n",
    "# df_2019.to_csv('incident_2019.csv')"
   ]
  },
  {
   "cell_type": "code",
   "execution_count": 24,
   "id": "f93bd1d5",
   "metadata": {},
   "outputs": [],
   "source": [
    "sentences=list(df['Incident Short Description'])"
   ]
  },
  {
   "cell_type": "code",
   "execution_count": 25,
   "id": "ee12e183",
   "metadata": {},
   "outputs": [
    {
     "data": {
      "text/plain": [
       "['broken', 'pipe', 'error', 'crds', 'ms2', 'lonindapnp524', 'uk', 'db', 'com']"
      ]
     },
     "execution_count": 25,
     "metadata": {},
     "output_type": "execute_result"
    }
   ],
   "source": [
    "tokenized_sent = []\n",
    "for s in sentences:\n",
    "    tokenized_sent.append(word_tokenize(s))\n",
    "tokenized_sent[0]"
   ]
  },
  {
   "cell_type": "code",
   "execution_count": 26,
   "id": "f196a96f",
   "metadata": {},
   "outputs": [
    {
     "data": {
      "text/plain": [
       "[TaggedDocument(words=['broken', 'pipe', 'error', 'crds', 'ms2', 'lonindapnp524', 'uk', 'db', 'com'], tags=[0]),\n",
       " TaggedDocument(words=['mifid', 'classification', 'can', 't', 'modified', 'cer', 'appearing', 'modification'], tags=[1])]"
      ]
     },
     "execution_count": 26,
     "metadata": {},
     "output_type": "execute_result"
    }
   ],
   "source": [
    "tagged_data = [TaggedDocument(d, [i]) for i, d in enumerate(tokenized_sent)]\n",
    "tagged_data[0:2]"
   ]
  },
  {
   "cell_type": "code",
   "execution_count": 27,
   "id": "37e470d4",
   "metadata": {},
   "outputs": [
    {
     "data": {
      "text/plain": [
       "'\\nvector_size = Dimensionality of the feature vectors.\\nwindow = The maximum distance between the current and predicted word within a sentence.\\nmin_count = Ignores all words with total frequency lower than this.\\nalpha = The initial learning rate.\\n'"
      ]
     },
     "execution_count": 27,
     "metadata": {},
     "output_type": "execute_result"
    }
   ],
   "source": [
    "#model = Doc2Vec(tagged_data, vector_size = 100, window = 3, min_count = 2, epochs = 100)\n",
    "model = Doc2Vec(tagged_data, vector_size = 300, window = 3,epochs = 500,dm=0)\n",
    "'''\n",
    "vector_size = Dimensionality of the feature vectors.\n",
    "window = The maximum distance between the current and predicted word within a sentence.\n",
    "min_count = Ignores all words with total frequency lower than this.\n",
    "alpha = The initial learning rate.\n",
    "'''"
   ]
  },
  {
   "cell_type": "code",
   "execution_count": 28,
   "id": "ae0e4b78",
   "metadata": {},
   "outputs": [],
   "source": [
    "# Save model\n",
    "filename = 'doc_model.wv' # Can be any arbitrary filename\n",
    "model.save(filename) \n",
    "# Reload model\n",
    "retrieved_model = gensim.models.doc2vec.Doc2Vec.load(filename)\n"
   ]
  },
  {
   "cell_type": "code",
   "execution_count": 29,
   "id": "96978c8f",
   "metadata": {},
   "outputs": [],
   "source": [
    "i= \"internal error removal pr action nca npe  dbCLM pipeline errors\"\n",
    "j=\"Hi I am ravi\""
   ]
  },
  {
   "cell_type": "code",
   "execution_count": 31,
   "id": "324f951b",
   "metadata": {},
   "outputs": [
    {
     "data": {
      "text/plain": [
       "[(6331, 0.8324095010757446),\n",
       " (6334, 0.6411031484603882),\n",
       " (5362, 0.592831552028656),\n",
       " (4827, 0.5809881687164307),\n",
       " (8541, 0.5674904584884644),\n",
       " (3842, 0.5569115877151489),\n",
       " (2997, 0.5475839376449585),\n",
       " (4693, 0.5367885828018188),\n",
       " (5478, 0.5278290510177612),\n",
       " (5063, 0.5234280824661255)]"
      ]
     },
     "execution_count": 31,
     "metadata": {},
     "output_type": "execute_result"
    }
   ],
   "source": [
    "n=10\n",
    "test_doc = word_tokenize(i.lower())\n",
    "test_doc_vector = model.infer_vector(test_doc)\n",
    "model.docvecs.most_similar(positive = [test_doc_vector],topn=n)"
   ]
  },
  {
   "cell_type": "code",
   "execution_count": 35,
   "id": "d537013b",
   "metadata": {},
   "outputs": [],
   "source": [
    "test= pd.read_csv(\"/home/jupyter/IB_Tech_AI_Ops/Ravi/incident_queries_2019_2020_test_data.csv\")"
   ]
  },
  {
   "cell_type": "code",
   "execution_count": 38,
   "id": "323b8bb3",
   "metadata": {},
   "outputs": [],
   "source": [
    "test.columns=['query','mapping','sample_type']"
   ]
  },
  {
   "cell_type": "code",
   "execution_count": 39,
   "id": "cb0c1b9d",
   "metadata": {},
   "outputs": [],
   "source": [
    "# test['query']= Cleaning(test,'query')"
   ]
  },
  {
   "cell_type": "code",
   "execution_count": 40,
   "id": "1f4cc5c9",
   "metadata": {},
   "outputs": [],
   "source": [
    "n=20\n",
    "df_final=[]\n",
    "for i in test['query']:\n",
    "    test_doc = word_tokenize(i.lower())\n",
    "    test_doc_vector = model.infer_vector(test_doc)\n",
    "    model.docvecs.most_similar(positive = [test_doc_vector],topn=n)\n",
    "    df_1= pd.DataFrame(model.docvecs.most_similar(positive = [test_doc_vector],topn=n),columns=['index','sim'])\n",
    "    df_1['query']=i\n",
    "    df_2= df.join(df_1.set_index('index'),how='inner').reset_index(drop=True)\n",
    "    df_final.append(df_2)\n",
    "df_final=pd.concat(df_final)\n",
    "#df_final.drop('index',inplace=True)"
   ]
  },
  {
   "cell_type": "code",
   "execution_count": 41,
   "id": "07662eb6",
   "metadata": {},
   "outputs": [
    {
     "data": {
      "text/plain": [
       "(5500, 7)"
      ]
     },
     "execution_count": 41,
     "metadata": {},
     "output_type": "execute_result"
    }
   ],
   "source": [
    "df_final.shape"
   ]
  },
  {
   "cell_type": "code",
   "execution_count": 43,
   "id": "693613c6",
   "metadata": {},
   "outputs": [],
   "source": [
    "df_final.drop_duplicates(['Incident Short Description','query'],inplace=True)"
   ]
  },
  {
   "cell_type": "code",
   "execution_count": 44,
   "id": "24339711",
   "metadata": {},
   "outputs": [
    {
     "data": {
      "text/plain": [
       "(3305, 7)"
      ]
     },
     "execution_count": 44,
     "metadata": {},
     "output_type": "execute_result"
    }
   ],
   "source": [
    "df_final.shape"
   ]
  },
  {
   "cell_type": "code",
   "execution_count": 45,
   "id": "dc730e4e",
   "metadata": {},
   "outputs": [],
   "source": [
    "# df_final['query'].value_counts()"
   ]
  },
  {
   "cell_type": "code",
   "execution_count": 46,
   "id": "32f8a63a",
   "metadata": {},
   "outputs": [],
   "source": [
    "df_final['rank'] = df_final.groupby(['query'])[['sim']].rank(method='first',ascending=False)\n",
    "df_final=df_final.sort_values(['query','rank'],ascending=[True,True])\n",
    "df_final.reset_index(drop=True,inplace=True)"
   ]
  },
  {
   "cell_type": "code",
   "execution_count": 47,
   "id": "c1dc13de",
   "metadata": {},
   "outputs": [],
   "source": [
    "df_final=df_final.merge(test,on='query',how='inner')"
   ]
  },
  {
   "cell_type": "code",
   "execution_count": 48,
   "id": "5a2d20fe",
   "metadata": {},
   "outputs": [],
   "source": [
    "df_final['Is Correct Inc Recommendation']=df_final.apply(lambda row: 1 if (row['Incident Short Description']==row['mapping'] and row['sim']>0 ) else 0, axis=1)"
   ]
  },
  {
   "cell_type": "code",
   "execution_count": 49,
   "id": "fa80740e",
   "metadata": {},
   "outputs": [
    {
     "data": {
      "text/plain": [
       "(14546, 5)"
      ]
     },
     "execution_count": 49,
     "metadata": {},
     "output_type": "execute_result"
    }
   ],
   "source": [
    "df.shape"
   ]
  },
  {
   "cell_type": "code",
   "execution_count": 50,
   "id": "60c7d1fa",
   "metadata": {},
   "outputs": [
    {
     "data": {
      "text/plain": [
       "(3305, 11)"
      ]
     },
     "execution_count": 50,
     "metadata": {},
     "output_type": "execute_result"
    }
   ],
   "source": [
    "df_final.shape"
   ]
  },
  {
   "cell_type": "code",
   "execution_count": null,
   "id": "fd7e50dc",
   "metadata": {},
   "outputs": [],
   "source": [
    "#0"
   ]
  },
  {
   "cell_type": "code",
   "execution_count": null,
   "id": "fc92cb22",
   "metadata": {},
   "outputs": [],
   "source": [
    "top1 = df_final[df_final['rank']<2]\n",
    "top2 = df_final[df_final['rank']<3]\n",
    "top3 = df_final[df_final['rank']<4]"
   ]
  },
  {
   "cell_type": "code",
   "execution_count": null,
   "id": "d51d76ec",
   "metadata": {},
   "outputs": [],
   "source": [
    "top1.shape,top2.shape,top3.shape"
   ]
  },
  {
   "cell_type": "code",
   "execution_count": null,
   "id": "e5f7e687",
   "metadata": {},
   "outputs": [],
   "source": [
    "top1_per=top1['Is Correct Inc Recommendation'].sum() / top1.shape[0]"
   ]
  },
  {
   "cell_type": "code",
   "execution_count": null,
   "id": "affbb834",
   "metadata": {},
   "outputs": [],
   "source": [
    "top1_per"
   ]
  },
  {
   "cell_type": "code",
   "execution_count": null,
   "id": "0af66cdf",
   "metadata": {},
   "outputs": [],
   "source": [
    "#top1[top1['Is Correct Inc Recommendation']==0][['mapping','Incident Short Description','sample_type']]\n",
    "# # #rightIndex-[6,9,15,24,33,162,174,210,234,267,279,291,399,486,504,507]"
   ]
  },
  {
   "cell_type": "code",
   "execution_count": null,
   "id": "172eb7cf",
   "metadata": {},
   "outputs": [],
   "source": [
    "# top1_manuval = [6,9,15,24,33,162,174,210,234,267,279,291,399,486,504,507]"
   ]
  },
  {
   "cell_type": "code",
   "execution_count": null,
   "id": "655f670f",
   "metadata": {},
   "outputs": [],
   "source": [
    "top1_rightquery=top1[top1['Is Correct Inc Recommendation']==1]['query'].tolist()"
   ]
  },
  {
   "cell_type": "code",
   "execution_count": null,
   "id": "1c074d84",
   "metadata": {},
   "outputs": [],
   "source": [
    "# top1_rightquery_manuval= top1[top1.index.isin(top1_manuval)]['query'].tolist()\n",
    "# top1_rightquery=top1_rightquery+top1_rightquery_manuval"
   ]
  },
  {
   "cell_type": "code",
   "execution_count": null,
   "id": "479db304",
   "metadata": {},
   "outputs": [],
   "source": [
    "len(top1_rightquery)"
   ]
  },
  {
   "cell_type": "code",
   "execution_count": null,
   "id": "df0b5578",
   "metadata": {},
   "outputs": [],
   "source": [
    "top2 = top2[~top2['query'].isin(top1_rightquery)]"
   ]
  },
  {
   "cell_type": "code",
   "execution_count": null,
   "id": "0f1a2b64",
   "metadata": {},
   "outputs": [],
   "source": [
    "top2_per=top2['Is Correct Inc Recommendation'].sum() / (top1.shape[0])"
   ]
  },
  {
   "cell_type": "code",
   "execution_count": null,
   "id": "cd45a9df",
   "metadata": {},
   "outputs": [],
   "source": [
    "top2_per"
   ]
  },
  {
   "cell_type": "code",
   "execution_count": null,
   "id": "dd25a1e6",
   "metadata": {},
   "outputs": [],
   "source": [
    "top2_rightquery=top2[top2['Is Correct Inc Recommendation']==1]['query'].unique().tolist()"
   ]
  },
  {
   "cell_type": "code",
   "execution_count": null,
   "id": "08664bb5",
   "metadata": {},
   "outputs": [],
   "source": [
    "len(top2_rightquery)"
   ]
  },
  {
   "cell_type": "code",
   "execution_count": null,
   "id": "262944d3",
   "metadata": {},
   "outputs": [],
   "source": [
    "#top1=\n",
    "#top2=3\n",
    "#top2 manu "
   ]
  },
  {
   "cell_type": "code",
   "execution_count": null,
   "id": "2d4a4d17",
   "metadata": {},
   "outputs": [],
   "source": [
    "# top2_manuval=[]"
   ]
  },
  {
   "cell_type": "code",
   "execution_count": null,
   "id": "5f60db9f",
   "metadata": {},
   "outputs": [],
   "source": [
    "# top2[(top2['Is Correct Inc Recommendation']==0)&(top2['rank']==2)][['mapping','Incident Short Description','sample_type']]"
   ]
  },
  {
   "cell_type": "code",
   "execution_count": null,
   "id": "7bd7f514",
   "metadata": {},
   "outputs": [],
   "source": [
    "# top2_rightquery_manuval= top2[top2.index.isin(top2_manuval)]['query'].tolist()\n",
    "# top2_rightquery = top2_rightquery+top2_rightquery_manuval"
   ]
  },
  {
   "cell_type": "code",
   "execution_count": null,
   "id": "d4766b1c",
   "metadata": {},
   "outputs": [],
   "source": [
    "#adding top2 mappings manuval and automate\n"
   ]
  },
  {
   "cell_type": "code",
   "execution_count": null,
   "id": "ab87d844",
   "metadata": {},
   "outputs": [],
   "source": [
    "#Adding top1 and top2 mappings\n",
    "top2_rightquery=top2_rightquery+top1_rightquery"
   ]
  },
  {
   "cell_type": "code",
   "execution_count": null,
   "id": "0079b944",
   "metadata": {},
   "outputs": [],
   "source": [
    "len(top2_rightquery)"
   ]
  },
  {
   "cell_type": "code",
   "execution_count": null,
   "id": "66615a70",
   "metadata": {},
   "outputs": [],
   "source": [
    "top3 = top3[~top3['query'].isin(top2_rightquery)]"
   ]
  },
  {
   "cell_type": "code",
   "execution_count": null,
   "id": "503c6ee5",
   "metadata": {},
   "outputs": [],
   "source": [
    "top3_per=top3['Is Correct Inc Recommendation'].sum() / (top1.shape[0])"
   ]
  },
  {
   "cell_type": "code",
   "execution_count": null,
   "id": "cc342ef1",
   "metadata": {},
   "outputs": [],
   "source": [
    "top3_per"
   ]
  },
  {
   "cell_type": "code",
   "execution_count": null,
   "id": "28e079d5",
   "metadata": {},
   "outputs": [],
   "source": [
    "top3_rightquery=top3[top3['Is Correct Inc Recommendation']==1]['query'].unique().tolist()"
   ]
  },
  {
   "cell_type": "code",
   "execution_count": null,
   "id": "1258a031",
   "metadata": {},
   "outputs": [],
   "source": [
    "len(top3_rightquery)"
   ]
  },
  {
   "cell_type": "code",
   "execution_count": null,
   "id": "e98113f1",
   "metadata": {},
   "outputs": [],
   "source": [
    "top3_rightquery=top3_rightquery+top2_rightquery"
   ]
  },
  {
   "cell_type": "code",
   "execution_count": null,
   "id": "76b410a3",
   "metadata": {},
   "outputs": [],
   "source": [
    "len(top3_rightquery)"
   ]
  },
  {
   "cell_type": "code",
   "execution_count": null,
   "id": "9a0f62ec",
   "metadata": {},
   "outputs": [],
   "source": [
    "# top3_manuval=[]\n",
    "# #"
   ]
  },
  {
   "cell_type": "code",
   "execution_count": null,
   "id": "b33af7c8",
   "metadata": {},
   "outputs": [],
   "source": [
    "# top3[(top3['Is Correct Inc Recommendation']==0)&(top3['rank']==3)][['mapping','Incident Short Description','sample_type']]"
   ]
  },
  {
   "cell_type": "code",
   "execution_count": null,
   "id": "6b760e27",
   "metadata": {},
   "outputs": [],
   "source": [
    "round(top1_per,2),round(top1_per+top2_per,2),round(top1_per+top2_per+top3_per,2)"
   ]
  },
  {
   "cell_type": "code",
   "execution_count": null,
   "id": "ab32398d",
   "metadata": {},
   "outputs": [],
   "source": [
    "len(top1_rightquery),len(top2_rightquery),len(top3_rightquery)"
   ]
  },
  {
   "cell_type": "code",
   "execution_count": null,
   "id": "9371658d",
   "metadata": {},
   "outputs": [],
   "source": [
    "#After Dropping duplicates accuracyincreases 55,64,67"
   ]
  },
  {
   "cell_type": "code",
   "execution_count": null,
   "id": "e4cebf99",
   "metadata": {},
   "outputs": [],
   "source": [
    "#Manuval\n",
    "#111,118,121\n",
    "#0.63,0.67,0.69\n"
   ]
  }
 ],
 "metadata": {
  "environment": {
   "name": "tf2-gpu.2-3.m68",
   "type": "gcloud",
   "uri": "gcr.io/deeplearning-platform-release/tf2-gpu.2-3:m68"
  },
  "kernelspec": {
   "display_name": "Python 3",
   "language": "python",
   "name": "python3"
  },
  "language_info": {
   "codemirror_mode": {
    "name": "ipython",
    "version": 3
   },
   "file_extension": ".py",
   "mimetype": "text/x-python",
   "name": "python",
   "nbconvert_exporter": "python",
   "pygments_lexer": "ipython3",
   "version": "3.7.10"
  }
 },
 "nbformat": 4,
 "nbformat_minor": 5
}
